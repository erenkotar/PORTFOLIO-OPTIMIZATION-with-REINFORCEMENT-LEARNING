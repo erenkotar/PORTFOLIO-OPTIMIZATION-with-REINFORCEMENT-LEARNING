{
 "cells": [
  {
   "cell_type": "code",
   "execution_count": 21,
   "metadata": {},
   "outputs": [],
   "source": [
    "import numpy as np\n",
    "import pandas as pd\n",
    "import yfinance as yf"
   ]
  },
  {
   "cell_type": "code",
   "execution_count": 22,
   "metadata": {},
   "outputs": [],
   "source": [
    "# tickers = pd.read_csv(\"TickerMeta.csv\")\n",
    "# tickers[\"working\"] = 0\n",
    "# tickers[\"close\"] = 0\n",
    "# tickers[\"checked\"] = 0\n",
    "\n",
    "tickers = pd.read_parquet(\"tickers.parquet\")"
   ]
  },
  {
   "cell_type": "code",
   "execution_count": 23,
   "metadata": {},
   "outputs": [],
   "source": [
    "# tickers.to_parquet(\"tickers.parquet\")\n",
    "# tickers = pd.read_parquet(\"tickers.parquet\")"
   ]
  },
  {
   "cell_type": "code",
   "execution_count": 24,
   "metadata": {},
   "outputs": [
    {
     "name": "stdout",
     "output_type": "stream",
     "text": [
      "106327\n"
     ]
    }
   ],
   "source": [
    "leftoff = tickers[tickers.checked == 1].index.max()\n",
    "print(leftoff)"
   ]
  },
  {
   "cell_type": "code",
   "execution_count": 25,
   "metadata": {},
   "outputs": [],
   "source": [
    "import time"
   ]
  },
  {
   "cell_type": "code",
   "execution_count": 26,
   "metadata": {},
   "outputs": [
    {
     "data": {
      "text/plain": [
       "'\\nCOUNT1 = 0\\nCOUNT2 = 0\\n\\nfor i in tickers.loc[leftoff-1:,:].itertuples():\\n    COUNT1 += 1\\n    COUNT2 += 1\\n    hist = yf.Ticker(i[1]).history(period=\"1d\")\\n    if hist.empty==False:\\n        tickers.loc[i[0], \"working\"] = 1\\n        tickers.loc[i[0], \"close\"] = hist[\"Close\"][0]\\n    tickers.loc[i[0], \"checked\"] = 1\\n    if COUNT1%100==0:\\n        tickers.to_parquet(\"tickers.parquet\")\\n        print(\"Saved\")\\n    if COUNT2%800==0:\\n        time.sleep(30)\\n        print(\"Slept\")\\n'"
      ]
     },
     "execution_count": 26,
     "metadata": {},
     "output_type": "execute_result"
    }
   ],
   "source": [
    "'''\n",
    "COUNT1 = 0\n",
    "COUNT2 = 0\n",
    "\n",
    "for i in tickers.loc[leftoff-1:,:].itertuples():\n",
    "    COUNT1 += 1\n",
    "    COUNT2 += 1\n",
    "    hist = yf.Ticker(i[1]).history(period=\"1d\")\n",
    "    if hist.empty==False:\n",
    "        tickers.loc[i[0], \"working\"] = 1\n",
    "        tickers.loc[i[0], \"close\"] = hist[\"Close\"][0]\n",
    "    tickers.loc[i[0], \"checked\"] = 1\n",
    "    if COUNT1%100==0:\n",
    "        tickers.to_parquet(\"tickers.parquet\")\n",
    "        print(\"Saved\")\n",
    "    if COUNT2%800==0:\n",
    "        time.sleep(30)\n",
    "        print(\"Slept\")\n",
    "'''"
   ]
  },
  {
   "cell_type": "markdown",
   "metadata": {},
   "source": [
    "## Shave"
   ]
  },
  {
   "cell_type": "code",
   "execution_count": 27,
   "metadata": {},
   "outputs": [
    {
     "data": {
      "text/html": [
       "<div>\n",
       "<style scoped>\n",
       "    .dataframe tbody tr th:only-of-type {\n",
       "        vertical-align: middle;\n",
       "    }\n",
       "\n",
       "    .dataframe tbody tr th {\n",
       "        vertical-align: top;\n",
       "    }\n",
       "\n",
       "    .dataframe thead th {\n",
       "        text-align: right;\n",
       "    }\n",
       "</style>\n",
       "<table border=\"1\" class=\"dataframe\">\n",
       "  <thead>\n",
       "    <tr style=\"text-align: right;\">\n",
       "      <th></th>\n",
       "      <th>Ticker</th>\n",
       "      <th>Name</th>\n",
       "      <th>Exchange</th>\n",
       "      <th>Category Name</th>\n",
       "      <th>Country</th>\n",
       "      <th>working</th>\n",
       "      <th>close</th>\n",
       "      <th>checked</th>\n",
       "    </tr>\n",
       "  </thead>\n",
       "  <tbody>\n",
       "    <tr>\n",
       "      <th>8343</th>\n",
       "      <td>FB</td>\n",
       "      <td>Facebook, Inc.</td>\n",
       "      <td>NMS</td>\n",
       "      <td>Internet Information Providers</td>\n",
       "      <td>USA</td>\n",
       "      <td>0</td>\n",
       "      <td>0.0</td>\n",
       "      <td>1</td>\n",
       "    </tr>\n",
       "  </tbody>\n",
       "</table>\n",
       "</div>"
      ],
      "text/plain": [
       "     Ticker            Name Exchange                   Category Name Country  \\\n",
       "8343     FB  Facebook, Inc.      NMS  Internet Information Providers     USA   \n",
       "\n",
       "      working  close  checked  \n",
       "8343        0    0.0        1  "
      ]
     },
     "execution_count": 27,
     "metadata": {},
     "output_type": "execute_result"
    }
   ],
   "source": [
    "tickers.loc[tickers[\"Ticker\"]==\"FB\"]"
   ]
  },
  {
   "cell_type": "code",
   "execution_count": 28,
   "metadata": {},
   "outputs": [],
   "source": [
    "tickers.loc[tickers[\"Ticker\"]==\"FB\", \"Ticker\"] = \"META\"\n",
    "tickers.loc[tickers[\"Ticker\"]==\"META\", \"Name\"] = \"Meta Platforms, Inc\"\n",
    "tickers.loc[tickers[\"Ticker\"]==\"META\", \"working\"] = 1"
   ]
  },
  {
   "cell_type": "code",
   "execution_count": 30,
   "metadata": {},
   "outputs": [],
   "source": [
    "working_tic = tickers[(tickers[\"working\"]==1) &\n",
    "                    #   (tickers[\"close\"]>0) & \n",
    "                      ~(tickers[\"Exchange\"].isna())\n",
    "                      ].copy()"
   ]
  },
  {
   "cell_type": "code",
   "execution_count": 32,
   "metadata": {},
   "outputs": [],
   "source": [
    "exch_order = [\"NMS\", \"NASDAQ\", \"NYSE\", \"TSX\", \"PNK\"]\n",
    "tick_order = [\"AMZN\",\"AAPL\",\"MSFT\",\"GOOG\",\"META\",\"NVDA\",\"PG\",\"NFLX\",\"V\"]  "
   ]
  },
  {
   "cell_type": "code",
   "execution_count": 33,
   "metadata": {},
   "outputs": [],
   "source": [
    "exch_order = exch_order + list(set(working_tic.Exchange.unique().tolist()) - set(exch_order))\n",
    "tick_order = tick_order + list(set(working_tic.Ticker.unique().tolist()) - set(tick_order))"
   ]
  },
  {
   "cell_type": "code",
   "execution_count": 34,
   "metadata": {},
   "outputs": [
    {
     "data": {
      "text/plain": [
       "AMZN            1\n",
       "077970.KS       1\n",
       "EAT             1\n",
       "VYCO            1\n",
       "CCYY            1\n",
       "               ..\n",
       "2385.TW         1\n",
       "TELECANOR.BO    1\n",
       "FAR.TO          1\n",
       "UNCFF           1\n",
       "5704.TWO        1\n",
       "Length: 42099, dtype: int64"
      ]
     },
     "execution_count": 34,
     "metadata": {},
     "output_type": "execute_result"
    }
   ],
   "source": [
    "pd.Series(tick_order).value_counts()"
   ]
  },
  {
   "cell_type": "code",
   "execution_count": 35,
   "metadata": {},
   "outputs": [],
   "source": [
    "working_tic['Exchange'] = pd.Categorical(working_tic['Exchange'], categories=exch_order, ordered=True)\n",
    "working_tic['Ticker'] = pd.Categorical(working_tic['Ticker'], categories=tick_order, ordered=True)\n",
    "\n",
    "# Sort by \"Ticker\", \"Exchange\", and then by \"Close\"\n",
    "df_sorted = working_tic.sort_values(by=[\"Ticker\", \"Exchange\", \"close\"], ascending=[True, True, False])"
   ]
  },
  {
   "cell_type": "code",
   "execution_count": 36,
   "metadata": {},
   "outputs": [
    {
     "data": {
      "text/html": [
       "<div>\n",
       "<style scoped>\n",
       "    .dataframe tbody tr th:only-of-type {\n",
       "        vertical-align: middle;\n",
       "    }\n",
       "\n",
       "    .dataframe tbody tr th {\n",
       "        vertical-align: top;\n",
       "    }\n",
       "\n",
       "    .dataframe thead th {\n",
       "        text-align: right;\n",
       "    }\n",
       "</style>\n",
       "<table border=\"1\" class=\"dataframe\">\n",
       "  <thead>\n",
       "    <tr style=\"text-align: right;\">\n",
       "      <th></th>\n",
       "      <th>Ticker</th>\n",
       "      <th>Name</th>\n",
       "      <th>Exchange</th>\n",
       "      <th>Category Name</th>\n",
       "      <th>Country</th>\n",
       "      <th>working</th>\n",
       "      <th>close</th>\n",
       "      <th>checked</th>\n",
       "    </tr>\n",
       "  </thead>\n",
       "  <tbody>\n",
       "    <tr>\n",
       "      <th>8343</th>\n",
       "      <td>META</td>\n",
       "      <td>Meta Platforms, Inc</td>\n",
       "      <td>NMS</td>\n",
       "      <td>Internet Information Providers</td>\n",
       "      <td>USA</td>\n",
       "      <td>1</td>\n",
       "      <td>0.0</td>\n",
       "      <td>1</td>\n",
       "    </tr>\n",
       "  </tbody>\n",
       "</table>\n",
       "</div>"
      ],
      "text/plain": [
       "     Ticker                 Name Exchange                   Category Name  \\\n",
       "8343   META  Meta Platforms, Inc      NMS  Internet Information Providers   \n",
       "\n",
       "     Country  working  close  checked  \n",
       "8343     USA        1    0.0        1  "
      ]
     },
     "execution_count": 36,
     "metadata": {},
     "output_type": "execute_result"
    }
   ],
   "source": [
    "df_sorted[df_sorted[\"Ticker\"]==\"META\"]"
   ]
  },
  {
   "cell_type": "code",
   "execution_count": 37,
   "metadata": {},
   "outputs": [],
   "source": [
    "# df_sorted.to_parquet(\"tickers_s.parquet\")"
   ]
  }
 ],
 "metadata": {
  "kernelspec": {
   "display_name": "Python 3",
   "language": "python",
   "name": "python3"
  },
  "language_info": {
   "codemirror_mode": {
    "name": "ipython",
    "version": 3
   },
   "file_extension": ".py",
   "mimetype": "text/x-python",
   "name": "python",
   "nbconvert_exporter": "python",
   "pygments_lexer": "ipython3",
   "version": "3.10.0"
  },
  "orig_nbformat": 4
 },
 "nbformat": 4,
 "nbformat_minor": 2
}
